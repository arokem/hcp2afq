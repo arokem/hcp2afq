{
 "cells": [
  {
   "cell_type": "markdown",
   "metadata": {},
   "source": [
    "## Download HCP diffusion data"
   ]
  },
  {
   "cell_type": "code",
   "execution_count": 1,
   "metadata": {
    "collapsed": true
   },
   "outputs": [],
   "source": [
    "import os"
   ]
  },
  {
   "cell_type": "code",
   "execution_count": 2,
   "metadata": {
    "collapsed": false
   },
   "outputs": [],
   "source": [
    "import numpy as np\n",
    "import matplotlib.pyplot as plt\n",
    "import os.path as op\n",
    "%matplotlib inline"
   ]
  },
  {
   "cell_type": "markdown",
   "metadata": {},
   "source": [
    "### Get the data from AWS S3\n",
    "\n",
    "We assume that you have a file '.aws/credentials', that includes a section: \n",
    "\n",
    "    [hcp]\n",
    "    AWS_ACCESS_KEY_ID=XXXXXXXXXXXXXXXX\n",
    "    AWS_SECRET_ACCESS_KEY=XXXXXXXXXXXXXXXX\n",
    "with the credentials you got [from HCP](https://wiki.humanconnectome.org/display/PublicData/How+To+Connect+to+Connectome+Data+via+AWS)"
   ]
  },
  {
   "cell_type": "code",
   "execution_count": 3,
   "metadata": {
    "collapsed": true
   },
   "outputs": [],
   "source": [
    "subjects = [991267, 992774, 994273]"
   ]
  },
  {
   "cell_type": "code",
   "execution_count": 9,
   "metadata": {
    "collapsed": false
   },
   "outputs": [],
   "source": [
    "data_files = {}\n",
    "for subject in subjects:\n",
    "    sub_dir = './%s'%subject \n",
    "    if not os.path.exists(sub_dir):\n",
    "        os.mkdir(sub_dir)\n",
    "        os.mkdir(os.path.join(sub_dir, 'sess'))\n",
    "        os.mkdir(os.path.join(sub_dir, 'sess', 'dwi'))\n",
    "        os.mkdir(os.path.join(sub_dir, 'sess', 'anat'))\n",
    "    data_files['%s/sess/dwi/dwi.bvals'%subject] = 'HCP/%s/T1w/Diffusion/bvals'%subject\n",
    "    data_files['%s/sess/dwi/dwi.bvecs'%subject] = 'HCP/%s/T1w/Diffusion/bvecs'%subject\n",
    "    data_files['%s/sess/dwi/dwi.nii.gz'%subject] = 'HCP/%s/T1w/Diffusion/data.nii.gz'%subject\n",
    "    data_files['%s/sess/anat/T1w_acpc_dc.nii.gz'%subject] = 'HCP/%s/T1w/T1w_acpc_dc.nii.gz'%subject"
   ]
  },
  {
   "cell_type": "code",
   "execution_count": null,
   "metadata": {
    "collapsed": false
   },
   "outputs": [],
   "source": []
  },
  {
   "cell_type": "code",
   "execution_count": 10,
   "metadata": {
    "collapsed": false
   },
   "outputs": [
    {
     "data": {
      "text/plain": [
       "{'991267/sess/anat/T1w_acpc_dc.nii.gz': 'HCP/991267/T1w/T1w_acpc_dc.nii.gz',\n",
       " '991267/sess/dwi/dwi.bvals': 'HCP/991267/T1w/Diffusion/bvals',\n",
       " '991267/sess/dwi/dwi.bvecs': 'HCP/991267/T1w/Diffusion/bvecs',\n",
       " '991267/sess/dwi/dwi.nii.gz': 'HCP/991267/T1w/Diffusion/data.nii.gz',\n",
       " '992774/sess/anat/T1w_acpc_dc.nii.gz': 'HCP/992774/T1w/T1w_acpc_dc.nii.gz',\n",
       " '992774/sess/dwi/dwi.bvals': 'HCP/992774/T1w/Diffusion/bvals',\n",
       " '992774/sess/dwi/dwi.bvecs': 'HCP/992774/T1w/Diffusion/bvecs',\n",
       " '992774/sess/dwi/dwi.nii.gz': 'HCP/992774/T1w/Diffusion/data.nii.gz',\n",
       " '994273/sess/anat/T1w_acpc_dc.nii.gz': 'HCP/994273/T1w/T1w_acpc_dc.nii.gz',\n",
       " '994273/sess/dwi/dwi.bvals': 'HCP/994273/T1w/Diffusion/bvals',\n",
       " '994273/sess/dwi/dwi.bvecs': 'HCP/994273/T1w/Diffusion/bvecs',\n",
       " '994273/sess/dwi/dwi.nii.gz': 'HCP/994273/T1w/Diffusion/data.nii.gz'}"
      ]
     },
     "execution_count": 10,
     "metadata": {},
     "output_type": "execute_result"
    }
   ],
   "source": [
    "data_files"
   ]
  },
  {
   "cell_type": "code",
   "execution_count": 11,
   "metadata": {
    "collapsed": false
   },
   "outputs": [],
   "source": [
    "import botocore.session\n",
    "import boto3\n",
    "boto3.setup_default_session(profile_name='hcp')\n",
    "s3 = boto3.resource('s3')\n",
    "bucket = s3.Bucket('hcp-openaccess')"
   ]
  },
  {
   "cell_type": "code",
   "execution_count": null,
   "metadata": {
    "collapsed": false
   },
   "outputs": [],
   "source": [
    "for k in data_files.keys():\n",
    "    if not op.exists(k):\n",
    "        bucket.download_file(data_files[k], k)"
   ]
  },
  {
   "cell_type": "code",
   "execution_count": null,
   "metadata": {
    "collapsed": true
   },
   "outputs": [],
   "source": []
  }
 ],
 "metadata": {
  "kernelspec": {
   "display_name": "Python 3",
   "language": "python",
   "name": "python3"
  },
  "language_info": {
   "codemirror_mode": {
    "name": "ipython",
    "version": 3
   },
   "file_extension": ".py",
   "mimetype": "text/x-python",
   "name": "python",
   "nbconvert_exporter": "python",
   "pygments_lexer": "ipython3",
   "version": "3.5.1"
  }
 },
 "nbformat": 4,
 "nbformat_minor": 0
}
